{
 "cells": [
  {
   "cell_type": "code",
   "execution_count": 1,
   "metadata": {},
   "outputs": [
    {
     "name": "stdout",
     "output_type": "stream",
     "text": [
      "[1, 2, 3, 4, 5, 6, 13, 21, 34]\n"
     ]
    }
   ],
   "source": [
    "#QUESTION 1\n",
    "A= [1,2,3,4,5,6]\n",
    "B =[13,21,34]\n",
    "#joining the the varible a and b together using the append() function\n",
    "for x in B:\n",
    "    A.append(x)\n",
    "print(A)\n",
    "\n"
   ]
  },
  {
   "cell_type": "code",
   "execution_count": 2,
   "metadata": {},
   "outputs": [
    {
     "name": "stdout",
     "output_type": "stream",
     "text": [
      "[1, 2, 3, 4, 5, 6, 13, 21, 34]\n"
     ]
    }
   ],
   "source": [
    "#using the extend() method\n",
    "A= [1,2,3,4,5,6]\n",
    "B =[13,21,34]\n",
    "A.extend(B)\n",
    "print(A)"
   ]
  },
  {
   "cell_type": "code",
   "execution_count": 3,
   "metadata": {},
   "outputs": [
    {
     "data": {
      "text/plain": [
       "array([[1., 0.],\n",
       "       [0., 1.]])"
      ]
     },
     "execution_count": 3,
     "metadata": {},
     "output_type": "execute_result"
    }
   ],
   "source": [
    "#question 2\n",
    "import numpy as np\n",
    "np.identity(2,dtype=None)"
   ]
  },
  {
   "cell_type": "code",
   "execution_count": 3,
   "metadata": {
    "scrolled": true
   },
   "outputs": [
    {
     "data": {
      "text/plain": [
       "-276.08"
      ]
     },
     "execution_count": 3,
     "metadata": {},
     "output_type": "execute_result"
    }
   ],
   "source": [
    "#question 3\n",
    "import numpy as np\n",
    "import pandas as pd\n",
    "import matplotlib.pyplot as plt\n",
    "fuel_ferc=pd.read_csv('fuel_ferc1.csv')\n",
    "fuel_ferc.head()\n",
    "lowest_cost_per_burned = fuel_ferc['fuel_cost_per_unit_burned'].min()\n",
    "lowest_cost_per_burned"
   ]
  },
  {
   "cell_type": "code",
   "execution_count": 6,
   "metadata": {
    "scrolled": false
   },
   "outputs": [
    {
     "data": {
      "text/plain": [
       "10.600220307806886"
      ]
     },
     "execution_count": 6,
     "metadata": {},
     "output_type": "execute_result"
    }
   ],
   "source": [
    "#question 4\n",
    "#solving for the standard deviation\n",
    "fuel_ferc_std = fuel_ferc['fuel_mmbtu_per_unit'].std()\n",
    "fuel_ferc_std"
   ]
  },
  {
   "cell_type": "code",
   "execution_count": 17,
   "metadata": {
    "scrolled": true
   },
   "outputs": [
    {
     "data": {
      "text/plain": [
       "17.006"
      ]
     },
     "execution_count": 17,
     "metadata": {},
     "output_type": "execute_result"
    }
   ],
   "source": [
    "#question 4\n",
    "#solving for the 75th percentile\n",
    "fuel_ferc_percentile = np.percentile(fuel_ferc['fuel_mmbtu_per_unit'],75)\n",
    "fuel_ferc_percentile"
   ]
  },
  {
   "cell_type": "code",
   "execution_count": 21,
   "metadata": {},
   "outputs": [
    {
     "data": {
      "text/plain": [
       "15.851495469109503"
      ]
     },
     "execution_count": 21,
     "metadata": {},
     "output_type": "execute_result"
    }
   ],
   "source": [
    "#question 5\n",
    "#solving for the skewness\n",
    "fuel_ferc_skew = fuel_ferc['fuel_qty_burned'].skew()\n",
    "fuel_ferc_skew\n"
   ]
  },
  {
   "cell_type": "code",
   "execution_count": 24,
   "metadata": {},
   "outputs": [
    {
     "data": {
      "text/plain": [
       "651.3694501337732"
      ]
     },
     "execution_count": 24,
     "metadata": {},
     "output_type": "execute_result"
    }
   ],
   "source": [
    "#solving for kurtosis\n",
    "fuel_ferc_kur = fuel_ferc['fuel_qty_burned'].kurtosis()\n",
    "fuel_ferc_kur"
   ]
  },
  {
   "cell_type": "markdown",
   "metadata": {},
   "source": [
    "skewness:15.85, kurtosis:651.37"
   ]
  },
  {
   "cell_type": "code",
   "execution_count": 14,
   "metadata": {
    "scrolled": false
   },
   "outputs": [
    {
     "data": {
      "text/plain": [
       "record_id                         0\n",
       "utility_id_ferc1                  0\n",
       "report_year                       0\n",
       "plant_name_ferc1                  0\n",
       "fuel_type_code_pudl               0\n",
       "fuel_unit                       180\n",
       "fuel_qty_burned                   0\n",
       "fuel_mmbtu_per_unit               0\n",
       "fuel_cost_per_unit_burned         0\n",
       "fuel_cost_per_unit_delivered      0\n",
       "fuel_cost_per_mmbtu               0\n",
       "dtype: int64"
      ]
     },
     "execution_count": 14,
     "metadata": {},
     "output_type": "execute_result"
    }
   ],
   "source": [
    "#question 6\n",
    "fuel_ferc.isnull().sum() "
   ]
  },
  {
   "cell_type": "code",
   "execution_count": 27,
   "metadata": {},
   "outputs": [
    {
     "data": {
      "text/plain": [
       "0.609694136774718"
      ]
     },
     "execution_count": 27,
     "metadata": {},
     "output_type": "execute_result"
    }
   ],
   "source": [
    "#solving for the percentage vcalue \n",
    "percent = 180/29523*100\n",
    "percent"
   ]
  },
  {
   "cell_type": "markdown",
   "metadata": {},
   "source": [
    "Feature:fuel_unit, Total:180, percent:61%"
   ]
  },
  {
   "cell_type": "code",
   "execution_count": 15,
   "metadata": {
    "scrolled": true
   },
   "outputs": [
    {
     "data": {
      "text/plain": [
       "(29523, 11)"
      ]
     },
     "execution_count": 15,
     "metadata": {},
     "output_type": "execute_result"
    }
   ],
   "source": [
    "fuel_ferc.shape"
   ]
  },
  {
   "cell_type": "code",
   "execution_count": 20,
   "metadata": {
    "scrolled": false
   },
   "outputs": [
    {
     "data": {
      "text/plain": [
       "record_id                        object\n",
       "utility_id_ferc1                  int64\n",
       "report_year                       int64\n",
       "plant_name_ferc1                 object\n",
       "fuel_type_code_pudl              object\n",
       "fuel_unit                        object\n",
       "fuel_qty_burned                 float64\n",
       "fuel_mmbtu_per_unit             float64\n",
       "fuel_cost_per_unit_burned       float64\n",
       "fuel_cost_per_unit_delivered    float64\n",
       "fuel_cost_per_mmbtu             float64\n",
       "dtype: object"
      ]
     },
     "execution_count": 20,
     "metadata": {},
     "output_type": "execute_result"
    }
   ],
   "source": [
    "#question 7\n",
    "fuel_ferc.dtypes\n"
   ]
  },
  {
   "cell_type": "markdown",
   "metadata": {},
   "source": [
    "since fuel unit is the column with the missing value, having object has its data type we can conclude that the data category fall under categorical data and best to use mean imputation to fill in the missing value"
   ]
  },
  {
   "cell_type": "code",
   "execution_count": 29,
   "metadata": {
    "scrolled": true
   },
   "outputs": [
    {
     "name": "stdout",
     "output_type": "stream",
     "text": [
      "fuel_cost_per_unit_burned       1.000000\n",
      "report_year                     0.013599\n",
      "fuel_cost_per_unit_delivered    0.011007\n",
      "fuel_cost_per_mmbtu            -0.000437\n",
      "fuel_mmbtu_per_unit            -0.010034\n",
      "fuel_qty_burned                -0.018535\n",
      "utility_id_ferc1               -0.037863\n",
      "Name: fuel_cost_per_unit_burned, dtype: float64 \n",
      "\n",
      "fuel_cost_per_unit_burned       1.000000\n",
      "report_year                     0.013599\n",
      "fuel_cost_per_unit_delivered    0.011007\n",
      "fuel_cost_per_mmbtu            -0.000437\n",
      "fuel_mmbtu_per_unit            -0.010034\n",
      "fuel_qty_burned                -0.018535\n",
      "utility_id_ferc1               -0.037863\n",
      "Name: fuel_cost_per_unit_burned, dtype: float64\n"
     ]
    }
   ],
   "source": [
    "#question 8\n",
    "corr = fuel_ferc.corr()\n",
    "print(corr['fuel_cost_per_unit_burned'].sort_values(ascending=False)[:7],'\\n')\n",
    "print(corr['fuel_cost_per_unit_burned'].sort_values(ascending=False)[-7:])"
   ]
  },
  {
   "cell_type": "code",
   "execution_count": 26,
   "metadata": {},
   "outputs": [
    {
     "data": {
      "text/html": [
       "<div>\n",
       "<style scoped>\n",
       "    .dataframe tbody tr th:only-of-type {\n",
       "        vertical-align: middle;\n",
       "    }\n",
       "\n",
       "    .dataframe tbody tr th {\n",
       "        vertical-align: top;\n",
       "    }\n",
       "\n",
       "    .dataframe thead th {\n",
       "        text-align: right;\n",
       "    }\n",
       "</style>\n",
       "<table border=\"1\" class=\"dataframe\">\n",
       "  <thead>\n",
       "    <tr style=\"text-align: right;\">\n",
       "      <th></th>\n",
       "      <th>fuel_cost_per_unit_burned</th>\n",
       "      <th>fuel_type_code_pudl</th>\n",
       "      <th>report_year</th>\n",
       "    </tr>\n",
       "  </thead>\n",
       "  <tbody>\n",
       "    <tr>\n",
       "      <th>0</th>\n",
       "      <td>18.59</td>\n",
       "      <td>coal</td>\n",
       "      <td>1994</td>\n",
       "    </tr>\n",
       "    <tr>\n",
       "      <th>1</th>\n",
       "      <td>18.58</td>\n",
       "      <td>coal</td>\n",
       "      <td>1994</td>\n",
       "    </tr>\n",
       "    <tr>\n",
       "      <th>2</th>\n",
       "      <td>39.72</td>\n",
       "      <td>coal</td>\n",
       "      <td>1994</td>\n",
       "    </tr>\n",
       "    <tr>\n",
       "      <th>3</th>\n",
       "      <td>47.21</td>\n",
       "      <td>coal</td>\n",
       "      <td>1994</td>\n",
       "    </tr>\n",
       "    <tr>\n",
       "      <th>4</th>\n",
       "      <td>2.77</td>\n",
       "      <td>gas</td>\n",
       "      <td>1994</td>\n",
       "    </tr>\n",
       "    <tr>\n",
       "      <th>...</th>\n",
       "      <td>...</td>\n",
       "      <td>...</td>\n",
       "      <td>...</td>\n",
       "    </tr>\n",
       "    <tr>\n",
       "      <th>29518</th>\n",
       "      <td>4.78</td>\n",
       "      <td>gas</td>\n",
       "      <td>2018</td>\n",
       "    </tr>\n",
       "    <tr>\n",
       "      <th>29519</th>\n",
       "      <td>3.65</td>\n",
       "      <td>gas</td>\n",
       "      <td>2018</td>\n",
       "    </tr>\n",
       "    <tr>\n",
       "      <th>29520</th>\n",
       "      <td>4.77</td>\n",
       "      <td>gas</td>\n",
       "      <td>2018</td>\n",
       "    </tr>\n",
       "    <tr>\n",
       "      <th>29521</th>\n",
       "      <td>3.06</td>\n",
       "      <td>coal</td>\n",
       "      <td>2018</td>\n",
       "    </tr>\n",
       "    <tr>\n",
       "      <th>29522</th>\n",
       "      <td>0.00</td>\n",
       "      <td>gas</td>\n",
       "      <td>2018</td>\n",
       "    </tr>\n",
       "  </tbody>\n",
       "</table>\n",
       "<p>29523 rows × 3 columns</p>\n",
       "</div>"
      ],
      "text/plain": [
       "       fuel_cost_per_unit_burned fuel_type_code_pudl  report_year\n",
       "0                          18.59                coal         1994\n",
       "1                          18.58                coal         1994\n",
       "2                          39.72                coal         1994\n",
       "3                          47.21                coal         1994\n",
       "4                           2.77                 gas         1994\n",
       "...                          ...                 ...          ...\n",
       "29518                       4.78                 gas         2018\n",
       "29519                       3.65                 gas         2018\n",
       "29520                       4.77                 gas         2018\n",
       "29521                       3.06                coal         2018\n",
       "29522                       0.00                 gas         2018\n",
       "\n",
       "[29523 rows x 3 columns]"
      ]
     },
     "execution_count": 26,
     "metadata": {},
     "output_type": "execute_result"
    }
   ],
   "source": [
    "#question 9\n",
    "#total fuel per unit burned in 1994 for coal\n",
    "fuel_burned_ = fuel_ferc[['fuel_cost_per_unit_burned']+['fuel_type_code_pudl']+['report_year']]\n",
    "fuel_burned_"
   ]
  },
  {
   "cell_type": "code",
   "execution_count": 20,
   "metadata": {
    "scrolled": false
   },
   "outputs": [
    {
     "data": {
      "text/plain": [
       "-20976"
      ]
     },
     "execution_count": 20,
     "metadata": {},
     "output_type": "execute_result"
    }
   ],
   "source": [
    "fuel_ferc['fuel_type_code_pudl'].str.find('coal').sum()"
   ]
  },
  {
   "cell_type": "code",
   "execution_count": 25,
   "metadata": {
    "scrolled": false
   },
   "outputs": [
    {
     "data": {
      "text/html": [
       "<div>\n",
       "<style scoped>\n",
       "    .dataframe tbody tr th:only-of-type {\n",
       "        vertical-align: middle;\n",
       "    }\n",
       "\n",
       "    .dataframe tbody tr th {\n",
       "        vertical-align: top;\n",
       "    }\n",
       "\n",
       "    .dataframe thead th {\n",
       "        text-align: right;\n",
       "    }\n",
       "</style>\n",
       "<table border=\"1\" class=\"dataframe\">\n",
       "  <thead>\n",
       "    <tr style=\"text-align: right;\">\n",
       "      <th></th>\n",
       "      <th>record_id</th>\n",
       "      <th>utility_id_ferc1</th>\n",
       "      <th>report_year</th>\n",
       "      <th>plant_name_ferc1</th>\n",
       "      <th>fuel_type_code_pudl</th>\n",
       "      <th>fuel_unit</th>\n",
       "      <th>fuel_qty_burned</th>\n",
       "      <th>fuel_mmbtu_per_unit</th>\n",
       "      <th>fuel_cost_per_unit_burned</th>\n",
       "      <th>fuel_cost_per_unit_delivered</th>\n",
       "      <th>fuel_cost_per_mmbtu</th>\n",
       "    </tr>\n",
       "  </thead>\n",
       "  <tbody>\n",
       "    <tr>\n",
       "      <th>3564</th>\n",
       "      <td>f1_fuel_1997_12_9_0_8</td>\n",
       "      <td>9</td>\n",
       "      <td>1997</td>\n",
       "      <td>peach bt 2&amp;3</td>\n",
       "      <td>nuclear</td>\n",
       "      <td>gramsU</td>\n",
       "      <td>210474.0</td>\n",
       "      <td>0.000065</td>\n",
       "      <td>37.847</td>\n",
       "      <td>7964521.0</td>\n",
       "      <td>0.578</td>\n",
       "    </tr>\n",
       "    <tr>\n",
       "      <th>3244</th>\n",
       "      <td>f1_fuel_1996_12_9_0_8</td>\n",
       "      <td>9</td>\n",
       "      <td>1996</td>\n",
       "      <td>peach bt 2&amp;3</td>\n",
       "      <td>nuclear</td>\n",
       "      <td>gramsU</td>\n",
       "      <td>211407.0</td>\n",
       "      <td>0.000065</td>\n",
       "      <td>36.865</td>\n",
       "      <td>7793482.0</td>\n",
       "      <td>0.145</td>\n",
       "    </tr>\n",
       "    <tr>\n",
       "      <th>3565</th>\n",
       "      <td>f1_fuel_1997_12_9_0_11</td>\n",
       "      <td>9</td>\n",
       "      <td>1997</td>\n",
       "      <td>salem 1&amp;2</td>\n",
       "      <td>nuclear</td>\n",
       "      <td>gramsU</td>\n",
       "      <td>36919.0</td>\n",
       "      <td>0.000056</td>\n",
       "      <td>61.100</td>\n",
       "      <td>2255688.0</td>\n",
       "      <td>1.087</td>\n",
       "    </tr>\n",
       "    <tr>\n",
       "      <th>3245</th>\n",
       "      <td>f1_fuel_1996_12_9_0_14</td>\n",
       "      <td>9</td>\n",
       "      <td>1996</td>\n",
       "      <td>hope creek 1</td>\n",
       "      <td>nuclear</td>\n",
       "      <td>gramsU</td>\n",
       "      <td>58795.0</td>\n",
       "      <td>0.000065</td>\n",
       "      <td>35.964</td>\n",
       "      <td>2114508.0</td>\n",
       "      <td>0.095</td>\n",
       "    </tr>\n",
       "    <tr>\n",
       "      <th>3566</th>\n",
       "      <td>f1_fuel_1997_12_9_0_14</td>\n",
       "      <td>9</td>\n",
       "      <td>1997</td>\n",
       "      <td>hope creek 1</td>\n",
       "      <td>nuclear</td>\n",
       "      <td>gramsU</td>\n",
       "      <td>52526.0</td>\n",
       "      <td>0.000066</td>\n",
       "      <td>39.660</td>\n",
       "      <td>1942979.0</td>\n",
       "      <td>0.560</td>\n",
       "    </tr>\n",
       "  </tbody>\n",
       "</table>\n",
       "</div>"
      ],
      "text/plain": [
       "                   record_id  utility_id_ferc1  report_year plant_name_ferc1  \\\n",
       "3564   f1_fuel_1997_12_9_0_8                 9         1997     peach bt 2&3   \n",
       "3244   f1_fuel_1996_12_9_0_8                 9         1996     peach bt 2&3   \n",
       "3565  f1_fuel_1997_12_9_0_11                 9         1997        salem 1&2   \n",
       "3245  f1_fuel_1996_12_9_0_14                 9         1996     hope creek 1   \n",
       "3566  f1_fuel_1997_12_9_0_14                 9         1997     hope creek 1   \n",
       "\n",
       "     fuel_type_code_pudl fuel_unit  fuel_qty_burned  fuel_mmbtu_per_unit  \\\n",
       "3564             nuclear    gramsU         210474.0             0.000065   \n",
       "3244             nuclear    gramsU         211407.0             0.000065   \n",
       "3565             nuclear    gramsU          36919.0             0.000056   \n",
       "3245             nuclear    gramsU          58795.0             0.000065   \n",
       "3566             nuclear    gramsU          52526.0             0.000066   \n",
       "\n",
       "      fuel_cost_per_unit_burned  fuel_cost_per_unit_delivered  \\\n",
       "3564                     37.847                     7964521.0   \n",
       "3244                     36.865                     7793482.0   \n",
       "3565                     61.100                     2255688.0   \n",
       "3245                     35.964                     2114508.0   \n",
       "3566                     39.660                     1942979.0   \n",
       "\n",
       "      fuel_cost_per_mmbtu  \n",
       "3564                0.578  \n",
       "3244                0.145  \n",
       "3565                1.087  \n",
       "3245                0.095  \n",
       "3566                0.560  "
      ]
     },
     "execution_count": 25,
     "metadata": {},
     "output_type": "execute_result"
    }
   ],
   "source": [
    "#question 10\n",
    "fuel_ferc.nlargest(5,['fuel_cost_per_unit_delivered'])"
   ]
  },
  {
   "cell_type": "markdown",
   "metadata": {},
   "source": [
    "1997 has the year with the highest fuel cost per unit delivered"
   ]
  }
 ],
 "metadata": {
  "kernelspec": {
   "display_name": "Python 3",
   "language": "python",
   "name": "python3"
  },
  "language_info": {
   "codemirror_mode": {
    "name": "ipython",
    "version": 3
   },
   "file_extension": ".py",
   "mimetype": "text/x-python",
   "name": "python",
   "nbconvert_exporter": "python",
   "pygments_lexer": "ipython3",
   "version": "3.8.3"
  }
 },
 "nbformat": 4,
 "nbformat_minor": 4
}
